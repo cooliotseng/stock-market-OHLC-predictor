{
 "cells": [
  {
   "cell_type": "code",
   "execution_count": 1,
   "metadata": {
    "colab": {
     "base_uri": "https://localhost:8080/"
    },
    "executionInfo": {
     "elapsed": 18711,
     "status": "ok",
     "timestamp": 1618925384933,
     "user": {
      "displayName": "Bhagyesh Shikarkhane",
      "photoUrl": "https://lh3.googleusercontent.com/a-/AOh14GgFBVwwsVEjmgiHuDgKogHaMyzaYfZe7Leor5qrpA=s64",
      "userId": "01305690820610831418"
     },
     "user_tz": -330
    },
    "id": "L0FPONSFXwFR",
    "outputId": "db531e9c-d024-4151-c40f-cab679c78bdf"
   },
   "outputs": [
    {
     "name": "stdout",
     "output_type": "stream",
     "text": [
      "Requirement already satisfied: yfinance in /home/siddhesh/.local/lib/python3.8/site-packages (0.1.59)\n",
      "Requirement already satisfied: numpy>=1.15 in /home/siddhesh/.local/lib/python3.8/site-packages (from yfinance) (1.19.5)\n",
      "Requirement already satisfied: lxml>=4.5.1 in /home/siddhesh/.local/lib/python3.8/site-packages (from yfinance) (4.6.3)\n",
      "Requirement already satisfied: requests>=2.20 in /home/siddhesh/anaconda3/lib/python3.8/site-packages (from yfinance) (2.24.0)\n",
      "Requirement already satisfied: pandas>=0.24 in /home/siddhesh/anaconda3/lib/python3.8/site-packages (from yfinance) (1.2.4)\n",
      "Requirement already satisfied: multitasking>=0.0.7 in /home/siddhesh/.local/lib/python3.8/site-packages (from yfinance) (0.0.9)\n",
      "Requirement already satisfied: pytz>=2017.3 in /home/siddhesh/anaconda3/lib/python3.8/site-packages (from pandas>=0.24->yfinance) (2020.1)\n",
      "Requirement already satisfied: python-dateutil>=2.7.3 in /home/siddhesh/anaconda3/lib/python3.8/site-packages (from pandas>=0.24->yfinance) (2.8.1)\n",
      "Requirement already satisfied: six>=1.5 in /home/siddhesh/.local/lib/python3.8/site-packages (from python-dateutil>=2.7.3->pandas>=0.24->yfinance) (1.15.0)\n",
      "Requirement already satisfied: idna<3,>=2.5 in /home/siddhesh/anaconda3/lib/python3.8/site-packages (from requests>=2.20->yfinance) (2.10)\n",
      "Requirement already satisfied: chardet<4,>=3.0.2 in /home/siddhesh/anaconda3/lib/python3.8/site-packages (from requests>=2.20->yfinance) (3.0.4)\n",
      "Requirement already satisfied: urllib3!=1.25.0,!=1.25.1,<1.26,>=1.21.1 in /home/siddhesh/anaconda3/lib/python3.8/site-packages (from requests>=2.20->yfinance) (1.25.9)\n",
      "Requirement already satisfied: certifi>=2017.4.17 in /home/siddhesh/.local/lib/python3.8/site-packages (from requests>=2.20->yfinance) (2020.6.20)\n",
      "\u001b[33mWARNING: You are using pip version 20.3.4; however, version 21.1.1 is available.\n",
      "You should consider upgrading via the '/home/siddhesh/anaconda3/bin/python -m pip install --upgrade pip' command.\u001b[0m\n",
      "Requirement already satisfied: mpl_finance in /home/siddhesh/.local/lib/python3.8/site-packages (0.10.1)\n",
      "Requirement already satisfied: matplotlib in /home/siddhesh/.local/lib/python3.8/site-packages (from mpl_finance) (3.3.2)\n",
      "Requirement already satisfied: pillow>=6.2.0 in /home/siddhesh/.local/lib/python3.8/site-packages (from matplotlib->mpl_finance) (8.0.1)\n",
      "Requirement already satisfied: numpy>=1.15 in /home/siddhesh/.local/lib/python3.8/site-packages (from matplotlib->mpl_finance) (1.19.5)\n",
      "Requirement already satisfied: pyparsing!=2.0.4,!=2.1.2,!=2.1.6,>=2.0.3 in /home/siddhesh/.local/lib/python3.8/site-packages (from matplotlib->mpl_finance) (2.4.7)\n",
      "Requirement already satisfied: certifi>=2020.06.20 in /home/siddhesh/.local/lib/python3.8/site-packages (from matplotlib->mpl_finance) (2020.6.20)\n",
      "Requirement already satisfied: python-dateutil>=2.1 in /home/siddhesh/anaconda3/lib/python3.8/site-packages (from matplotlib->mpl_finance) (2.8.1)\n",
      "Requirement already satisfied: kiwisolver>=1.0.1 in /home/siddhesh/.local/lib/python3.8/site-packages (from matplotlib->mpl_finance) (1.3.1)\n",
      "Requirement already satisfied: cycler>=0.10 in /home/siddhesh/.local/lib/python3.8/site-packages (from matplotlib->mpl_finance) (0.10.0)\n",
      "Requirement already satisfied: six in /home/siddhesh/.local/lib/python3.8/site-packages (from cycler>=0.10->matplotlib->mpl_finance) (1.15.0)\n",
      "\u001b[33mWARNING: You are using pip version 20.3.4; however, version 21.1.1 is available.\n",
      "You should consider upgrading via the '/home/siddhesh/anaconda3/bin/python -m pip install --upgrade pip' command.\u001b[0m\n",
      "Requirement already satisfied: mplfinance in /home/siddhesh/.local/lib/python3.8/site-packages (0.12.7a12)\n",
      "Requirement already satisfied: pandas in /home/siddhesh/anaconda3/lib/python3.8/site-packages (from mplfinance) (1.2.4)\n",
      "Requirement already satisfied: matplotlib in /home/siddhesh/.local/lib/python3.8/site-packages (from mplfinance) (3.3.2)\n",
      "Requirement already satisfied: python-dateutil>=2.1 in /home/siddhesh/anaconda3/lib/python3.8/site-packages (from matplotlib->mplfinance) (2.8.1)\n",
      "Requirement already satisfied: cycler>=0.10 in /home/siddhesh/.local/lib/python3.8/site-packages (from matplotlib->mplfinance) (0.10.0)\n",
      "Requirement already satisfied: pillow>=6.2.0 in /home/siddhesh/.local/lib/python3.8/site-packages (from matplotlib->mplfinance) (8.0.1)\n",
      "Requirement already satisfied: numpy>=1.15 in /home/siddhesh/.local/lib/python3.8/site-packages (from matplotlib->mplfinance) (1.19.5)\n",
      "Requirement already satisfied: kiwisolver>=1.0.1 in /home/siddhesh/.local/lib/python3.8/site-packages (from matplotlib->mplfinance) (1.3.1)\n",
      "Requirement already satisfied: pyparsing!=2.0.4,!=2.1.2,!=2.1.6,>=2.0.3 in /home/siddhesh/.local/lib/python3.8/site-packages (from matplotlib->mplfinance) (2.4.7)\n",
      "Requirement already satisfied: certifi>=2020.06.20 in /home/siddhesh/.local/lib/python3.8/site-packages (from matplotlib->mplfinance) (2020.6.20)\n",
      "Requirement already satisfied: six in /home/siddhesh/.local/lib/python3.8/site-packages (from cycler>=0.10->matplotlib->mplfinance) (1.15.0)\n",
      "Requirement already satisfied: pytz>=2017.3 in /home/siddhesh/anaconda3/lib/python3.8/site-packages (from pandas->mplfinance) (2020.1)\n",
      "\u001b[33mWARNING: You are using pip version 20.3.4; however, version 21.1.1 is available.\n",
      "You should consider upgrading via the '/home/siddhesh/anaconda3/bin/python -m pip install --upgrade pip' command.\u001b[0m\n",
      "Requirement already satisfied: nsepy in /home/siddhesh/.local/lib/python3.8/site-packages (0.8)\n",
      "Requirement already satisfied: pandas in /home/siddhesh/anaconda3/lib/python3.8/site-packages (from nsepy) (1.2.4)\n",
      "Requirement already satisfied: six in /home/siddhesh/.local/lib/python3.8/site-packages (from nsepy) (1.15.0)\n",
      "Requirement already satisfied: numpy in /home/siddhesh/.local/lib/python3.8/site-packages (from nsepy) (1.19.5)\n",
      "Requirement already satisfied: requests in /home/siddhesh/anaconda3/lib/python3.8/site-packages (from nsepy) (2.24.0)\n",
      "Requirement already satisfied: click in /home/siddhesh/anaconda3/lib/python3.8/site-packages (from nsepy) (7.1.2)\n",
      "Requirement already satisfied: lxml in /home/siddhesh/.local/lib/python3.8/site-packages (from nsepy) (4.6.3)\n",
      "Requirement already satisfied: beautifulsoup4 in /home/siddhesh/.local/lib/python3.8/site-packages (from nsepy) (4.9.3)\n",
      "Requirement already satisfied: soupsieve>1.2 in /home/siddhesh/.local/lib/python3.8/site-packages (from beautifulsoup4->nsepy) (2.0.1)\n",
      "Requirement already satisfied: pytz>=2017.3 in /home/siddhesh/anaconda3/lib/python3.8/site-packages (from pandas->nsepy) (2020.1)\n",
      "Requirement already satisfied: python-dateutil>=2.7.3 in /home/siddhesh/anaconda3/lib/python3.8/site-packages (from pandas->nsepy) (2.8.1)\n",
      "Requirement already satisfied: idna<3,>=2.5 in /home/siddhesh/anaconda3/lib/python3.8/site-packages (from requests->nsepy) (2.10)\n",
      "Requirement already satisfied: chardet<4,>=3.0.2 in /home/siddhesh/anaconda3/lib/python3.8/site-packages (from requests->nsepy) (3.0.4)\n",
      "Requirement already satisfied: urllib3!=1.25.0,!=1.25.1,<1.26,>=1.21.1 in /home/siddhesh/anaconda3/lib/python3.8/site-packages (from requests->nsepy) (1.25.9)\n",
      "Requirement already satisfied: certifi>=2017.4.17 in /home/siddhesh/.local/lib/python3.8/site-packages (from requests->nsepy) (2020.6.20)\n",
      "\u001b[33mWARNING: You are using pip version 20.3.4; however, version 21.1.1 is available.\n",
      "You should consider upgrading via the '/home/siddhesh/anaconda3/bin/python -m pip install --upgrade pip' command.\u001b[0m\n"
     ]
    }
   ],
   "source": [
    "!pip install yfinance\n",
    "!pip install mpl_finance\n",
    "!pip install mplfinance\n",
    "!pip install nsepy"
   ]
  },
  {
   "cell_type": "code",
   "execution_count": 2,
   "metadata": {
    "executionInfo": {
     "elapsed": 1165,
     "status": "ok",
     "timestamp": 1618925389218,
     "user": {
      "displayName": "Bhagyesh Shikarkhane",
      "photoUrl": "https://lh3.googleusercontent.com/a-/AOh14GgFBVwwsVEjmgiHuDgKogHaMyzaYfZe7Leor5qrpA=s64",
      "userId": "01305690820610831418"
     },
     "user_tz": -330
    },
    "id": "zG7RIC9Sm-dw"
   },
   "outputs": [
    {
     "name": "stderr",
     "output_type": "stream",
     "text": [
      "/home/siddhesh/.local/lib/python3.8/site-packages/mpl_finance.py:16: DeprecationWarning: \n",
      "\n",
      "  =================================================================\n",
      "\n",
      "   WARNING: `mpl_finance` is deprecated:\n",
      "\n",
      "    Please use `mplfinance` instead (no hyphen, no underscore).\n",
      "\n",
      "    To install: `pip install --upgrade mplfinance` \n",
      "\n",
      "   For more information, see: https://pypi.org/project/mplfinance/\n",
      "\n",
      "  =================================================================\n",
      "\n",
      "  __warnings.warn('\\n\\n  ================================================================='+\n"
     ]
    }
   ],
   "source": [
    "import pandas as pd\n",
    "import yfinance\n",
    "from datetime import date\n",
    "from matplotlib.pylab import rcParams\n",
    "\n",
    "import numpy as np\n",
    "import dateutil.relativedelta as dr\n",
    "from mpl_finance import candlestick_ohlc\n",
    "import matplotlib.dates as mpl_dates\n",
    "import matplotlib.pyplot as plt\n",
    "import mplfinance as mpf\n",
    "from nsepy import get_history \n",
    "rcParams[ 'figure.figsize' ]=20,10\n",
    "\n",
    "\n",
    "plt.rc('font', size=14)"
   ]
  },
  {
   "cell_type": "code",
   "execution_count": 3,
   "metadata": {
    "executionInfo": {
     "elapsed": 1866,
     "status": "ok",
     "timestamp": 1618925395038,
     "user": {
      "displayName": "Bhagyesh Shikarkhane",
      "photoUrl": "https://lh3.googleusercontent.com/a-/AOh14GgFBVwwsVEjmgiHuDgKogHaMyzaYfZe7Leor5qrpA=s64",
      "userId": "01305690820610831418"
     },
     "user_tz": -330
    },
    "id": "wWz9wfy1nCMw"
   },
   "outputs": [],
   "source": [
    "def obtain_data(ticker,start,end):\n",
    "# Enter the start and end dates using the method date(yyyy,m,dd)    \n",
    "    stock=get_history(symbol=ticker,start=start,end=end, index=True)\n",
    "    df=stock.copy()\n",
    "    df=df.reset_index()\n",
    "    \n",
    "    df.index=df.Date\n",
    "    return df"
   ]
  },
  {
   "cell_type": "code",
   "execution_count": 4,
   "metadata": {},
   "outputs": [],
   "source": [
    "df=obtain_data('NIFTY',date(2018,7,8),date(2019,1,8))\n"
   ]
  },
  {
   "cell_type": "code",
   "execution_count": 5,
   "metadata": {
    "executionInfo": {
     "elapsed": 1146,
     "status": "ok",
     "timestamp": 1618925399093,
     "user": {
      "displayName": "Bhagyesh Shikarkhane",
      "photoUrl": "https://lh3.googleusercontent.com/a-/AOh14GgFBVwwsVEjmgiHuDgKogHaMyzaYfZe7Leor5qrpA=s64",
      "userId": "01305690820610831418"
     },
     "user_tz": -330
    },
    "id": "MLwf8VOEnbak"
   },
   "outputs": [],
   "source": [
    "df['Date'] = pd.to_datetime(df.index)\n",
    "df['Date'] = df['Date'].apply(mpl_dates.date2num)\n",
    "\n",
    "df = df.loc[:,['Date','Open', 'High', 'Low', 'Close']]\n"
   ]
  },
  {
   "cell_type": "code",
   "execution_count": 6,
   "metadata": {
    "executionInfo": {
     "elapsed": 1654,
     "status": "ok",
     "timestamp": 1618925407048,
     "user": {
      "displayName": "Bhagyesh Shikarkhane",
      "photoUrl": "https://lh3.googleusercontent.com/a-/AOh14GgFBVwwsVEjmgiHuDgKogHaMyzaYfZe7Leor5qrpA=s64",
      "userId": "01305690820610831418"
     },
     "user_tz": -330
    },
    "id": "TmQAspsupKC2"
   },
   "outputs": [],
   "source": [
    "def isSupport(df,i):\n",
    "    support = df['Low'][i] < df['Low'][i-1]  and df['Low'][i] < df['Low'][i+1] \\\n",
    "   and df['Low'][i+1] < df['Low'][i+2] and df['Low'][i-1] < df['Low'][i-2]\n",
    "\n",
    "    return support\n",
    "\n",
    "def isResistance(df,i):\n",
    "    resistance = df['High'][i] > df['High'][i-1]  and df['High'][i] > df['High'][i+1] \\\n",
    "  and df['High'][i+1] > df['High'][i+2] and df['High'][i-1] > df['High'][i-2] \n",
    "\n",
    "    return resistance"
   ]
  },
  {
   "cell_type": "code",
   "execution_count": 7,
   "metadata": {
    "executionInfo": {
     "elapsed": 1623,
     "status": "ok",
     "timestamp": 1618925410978,
     "user": {
      "displayName": "Bhagyesh Shikarkhane",
      "photoUrl": "https://lh3.googleusercontent.com/a-/AOh14GgFBVwwsVEjmgiHuDgKogHaMyzaYfZe7Leor5qrpA=s64",
      "userId": "01305690820610831418"
     },
     "user_tz": -330
    },
    "id": "WH1Vq0cdpRpY"
   },
   "outputs": [],
   "source": [
    "levels = []\n",
    "for i in range(2,df.shape[0]-2):\n",
    "    if isSupport(df,i):\n",
    "        levels.append((i,df['Low'][i]))\n",
    "    elif isResistance(df,i):\n",
    "        levels.append((i,df['High'][i]))"
   ]
  },
  {
   "cell_type": "code",
   "execution_count": 8,
   "metadata": {
    "executionInfo": {
     "elapsed": 1619,
     "status": "ok",
     "timestamp": 1618928445962,
     "user": {
      "displayName": "Bhagyesh Shikarkhane",
      "photoUrl": "https://lh3.googleusercontent.com/a-/AOh14GgFBVwwsVEjmgiHuDgKogHaMyzaYfZe7Leor5qrpA=s64",
      "userId": "01305690820610831418"
     },
     "user_tz": -330
    },
    "id": "JhqHMMW9ppq3"
   },
   "outputs": [],
   "source": [
    "def plot_all():\n",
    "    fig, ax = plt.subplots()\n",
    "\n",
    "    candlestick_ohlc(ax,df.values,width=0.6, colorup='green', colordown='red', alpha=0.8)\n",
    "\n",
    "    date_format = mpl_dates.DateFormatter('%d %b %Y')\n",
    "    ax.xaxis.set_major_formatter(date_format)\n",
    "    fig.autofmt_xdate()\n",
    "\n",
    "    fig.tight_layout()\n",
    "\n",
    "    for level in levels:\n",
    "        plt.hlines(level[1],xmin=df['Date'][level[0]],\\\n",
    "               xmax=max(df['Date']),colors='blue')\n",
    "    fig.show()\n",
    "    fig.savefig('CandleData.png')\n"
   ]
  },
  {
   "cell_type": "markdown",
   "metadata": {
    "id": "jACAz2C9c7Mf"
   },
   "source": []
  },
  {
   "cell_type": "code",
   "execution_count": 9,
   "metadata": {
    "executionInfo": {
     "elapsed": 1066,
     "status": "ok",
     "timestamp": 1618926086763,
     "user": {
      "displayName": "Bhagyesh Shikarkhane",
      "photoUrl": "https://lh3.googleusercontent.com/a-/AOh14GgFBVwwsVEjmgiHuDgKogHaMyzaYfZe7Leor5qrpA=s64",
      "userId": "01305690820610831418"
     },
     "user_tz": -330
    },
    "id": "3BhKoypxpzMZ"
   },
   "outputs": [],
   "source": [
    "s =  np.mean(df['High'] - df['Low'])"
   ]
  },
  {
   "cell_type": "code",
   "execution_count": 10,
   "metadata": {
    "executionInfo": {
     "elapsed": 1423,
     "status": "ok",
     "timestamp": 1618926088994,
     "user": {
      "displayName": "Bhagyesh Shikarkhane",
      "photoUrl": "https://lh3.googleusercontent.com/a-/AOh14GgFBVwwsVEjmgiHuDgKogHaMyzaYfZe7Leor5qrpA=s64",
      "userId": "01305690820610831418"
     },
     "user_tz": -330
    },
    "id": "b-7JPGaNqDKj"
   },
   "outputs": [],
   "source": [
    "def isFarFromLevel(l):\n",
    "      return np.sum([abs(l-x) < s  for x in levels]) == 0"
   ]
  },
  {
   "cell_type": "code",
   "execution_count": 11,
   "metadata": {
    "executionInfo": {
     "elapsed": 911,
     "status": "ok",
     "timestamp": 1618926090601,
     "user": {
      "displayName": "Bhagyesh Shikarkhane",
      "photoUrl": "https://lh3.googleusercontent.com/a-/AOh14GgFBVwwsVEjmgiHuDgKogHaMyzaYfZe7Leor5qrpA=s64",
      "userId": "01305690820610831418"
     },
     "user_tz": -330
    },
    "id": "jf-Wg2mHqXCL"
   },
   "outputs": [],
   "source": [
    "levels = []\n",
    "for i in range(2,df.shape[0]-2):\n",
    "    if isSupport(df,i):\n",
    "        l = df['Low'][i]\n",
    "\n",
    "        if isFarFromLevel(l):\n",
    "              levels.append((i,l))\n",
    "    elif isResistance(df,i):\n",
    "        l = df['High'][i]\n",
    "\n",
    "        if isFarFromLevel(l):\n",
    "              levels.append((i,l))"
   ]
  },
  {
   "cell_type": "code",
   "execution_count": 12,
   "metadata": {
    "colab": {
     "base_uri": "https://localhost:8080/"
    },
    "executionInfo": {
     "elapsed": 1297,
     "status": "ok",
     "timestamp": 1618926093937,
     "user": {
      "displayName": "Bhagyesh Shikarkhane",
      "photoUrl": "https://lh3.googleusercontent.com/a-/AOh14GgFBVwwsVEjmgiHuDgKogHaMyzaYfZe7Leor5qrpA=s64",
      "userId": "01305690820610831418"
     },
     "user_tz": -330
    },
    "id": "dhbek-V0qZ1Y",
    "outputId": "ad72821b-8e9c-4d7a-cd88-c8710d698ce6"
   },
   "outputs": [
    {
     "data": {
      "text/plain": [
       "[(3, 11078.3),\n",
       " (23, 11495.2),\n",
       " (34, 11760.2),\n",
       " (60, 10198.4),\n",
       " (73, 10004.55),\n",
       " (84, 10440.55),\n",
       " (88, 10774.7),\n",
       " (97, 10941.2)]"
      ]
     },
     "execution_count": 12,
     "metadata": {},
     "output_type": "execute_result"
    }
   ],
   "source": [
    "levels"
   ]
  },
  {
   "cell_type": "code",
   "execution_count": 13,
   "metadata": {
    "colab": {
     "base_uri": "https://localhost:8080/",
     "height": 505
    },
    "executionInfo": {
     "elapsed": 3371,
     "status": "ok",
     "timestamp": 1618926100518,
     "user": {
      "displayName": "Bhagyesh Shikarkhane",
      "photoUrl": "https://lh3.googleusercontent.com/a-/AOh14GgFBVwwsVEjmgiHuDgKogHaMyzaYfZe7Leor5qrpA=s64",
      "userId": "01305690820610831418"
     },
     "user_tz": -330
    },
    "id": "TgA0RqEeqdtJ",
    "outputId": "2c75256c-380a-4cef-8f89-f7ce76cd7959"
   },
   "outputs": [
    {
     "name": "stderr",
     "output_type": "stream",
     "text": [
      "<ipython-input-8-26299f536bda>:15: UserWarning: Matplotlib is currently using module://ipykernel.pylab.backend_inline, which is a non-GUI backend, so cannot show the figure.\n",
      "  fig.show()\n"
     ]
    },
    {
     "data": {
      "image/png": "[encoded data removed]",
      "text/plain": [
       "<Figure size 1440x720 with 1 Axes>"
      ]
     },
     "metadata": {
      "needs_background": "light"
     },
     "output_type": "display_data"
    }
   ],
   "source": [
    "plot_all()"
   ]
  },
  {
   "cell_type": "code",
   "execution_count": null,
   "metadata": {},
   "outputs": [],
   "source": []
  },
  {
   "cell_type": "code",
   "execution_count": null,
   "metadata": {},
   "outputs": [],
   "source": []
  }
 ],
 "metadata": {
  "colab": {
   "authorship_tag": "ABX9TyMiLRj0uXOQV+ZtAI1XPxM+",
   "collapsed_sections": [],
   "name": "banknifty.ipynb",
   "provenance": []
  },
  "kernelspec": {
   "display_name": "Python 3",
   "language": "python",
   "name": "python3"
  },
  "language_info": {
   "codemirror_mode": {
    "name": "ipython",
    "version": 3
   },
   "file_extension": ".py",
   "mimetype": "text/x-python",
   "name": "python",
   "nbconvert_exporter": "python",
   "pygments_lexer": "ipython3",
   "version": "3.8.3"
  }
 },
 "nbformat": 4,
 "nbformat_minor": 1
}
